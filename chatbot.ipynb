{
 "cells": [
  {
   "cell_type": "markdown",
   "metadata": {},
   "source": [
    "![little bot](little_bot.webp)"
   ]
  },
  {
   "cell_type": "code",
   "execution_count": 9,
   "metadata": {},
   "outputs": [],
   "source": [
    "from typing import List\n",
    "\n",
    "from gen_ai_hub.orchestration.models.config import OrchestrationConfig\n",
    "from gen_ai_hub.orchestration.models.llm import LLM\n",
    "from gen_ai_hub.orchestration.models.message import Message, SystemMessage, UserMessage\n",
    "from gen_ai_hub.orchestration.models.template import Template, TemplateValue\n",
    "from gen_ai_hub.orchestration.service import OrchestrationService\n",
    "\n",
    "YOUR_API_URL = \"\"\n",
    "\n",
    "\n",
    "def load_text_file(file_path):\n",
    "    with open(file_path, 'r', encoding='utf-8') as file:\n",
    "        return file.read()\n",
    "    "
   ]
  },
  {
   "cell_type": "markdown",
   "metadata": {},
   "source": [
    "## A simple chat bot"
   ]
  },
  {
   "cell_type": "code",
   "execution_count": 10,
   "metadata": {},
   "outputs": [],
   "source": [
    "config = OrchestrationConfig(\n",
    "            template=Template(\n",
    "                messages=[\n",
    "                    SystemMessage(\"You are a helpful chatbot assistant.\"),\n",
    "                    UserMessage(\"{{?user_query}}\"),\n",
    "                ],\n",
    "            ),\n",
    "            llm=LLM(name=\"gpt-4o\", parameters={\"temperature\": 0.0}),\n",
    "        )\n",
    "\n",
    "class ChatBot:\n",
    "    def __init__(self, orchestration_service: OrchestrationService, config: OrchestrationConfig):\n",
    "        self.service = orchestration_service\n",
    "        self.history: List[Message] = []\n",
    "        self.config = config\n",
    "\n",
    "    def chat(self, user_input):\n",
    "        response = self.service.run(\n",
    "            config=self.config,\n",
    "            template_values=[\n",
    "                TemplateValue(name=\"user_query\", value=user_input),\n",
    "            ],\n",
    "            history=self.history,\n",
    "        )\n",
    "\n",
    "        message = response.orchestration_result.choices[0].message\n",
    "\n",
    "        self.history = response.module_results.templating\n",
    "        self.history.append(message)\n",
    "\n",
    "        return message.content\n",
    "\n",
    "service = OrchestrationService(api_url=YOUR_API_URL)\n",
    "bot = ChatBot(orchestration_service=service, config=config)\n"
   ]
  },
  {
   "cell_type": "code",
   "execution_count": 11,
   "metadata": {},
   "outputs": [
    {
     "name": "stdout",
     "output_type": "stream",
     "text": [
      "Hello! I'm just a computer program, so I don't have feelings, but I'm here and ready to help you. How can I assist you today?\n"
     ]
    }
   ],
   "source": [
    "print(bot.chat(\"Hello, how are you?\"))"
   ]
  },
  {
   "cell_type": "code",
   "execution_count": 12,
   "metadata": {},
   "outputs": [
    {
     "name": "stdout",
     "output_type": "stream",
     "text": [
      "I don't have real-time capabilities to check the current weather. However, you can easily find the weather forecast by checking a weather website, using a weather app on your phone, or asking a voice-activated assistant like Siri, Google Assistant, or Alexa. How else can I assist you today?\n"
     ]
    }
   ],
   "source": [
    "print(bot.chat(\"What's the weather like today?\"))"
   ]
  },
  {
   "cell_type": "code",
   "execution_count": 13,
   "metadata": {},
   "outputs": [
    {
     "name": "stdout",
     "output_type": "stream",
     "text": [
      "Yes, you first asked me, \"Hello, how are you?\" Is there something specific you'd like to discuss or need help with?\n"
     ]
    }
   ],
   "source": [
    "print(bot.chat(\"Can you remember what I first asked you?\"))"
   ]
  },
  {
   "cell_type": "markdown",
   "metadata": {},
   "source": [
    "## Making our chat bot responsible\n",
    "Adding content filtering and data masking by only changing the config"
   ]
  },
  {
   "cell_type": "code",
   "execution_count": 14,
   "metadata": {},
   "outputs": [],
   "source": [
    "from gen_ai_hub.orchestration.models.data_masking import DataMasking\n",
    "from gen_ai_hub.orchestration.models.sap_data_privacy_integration import SAPDataPrivacyIntegration, MaskingMethod, \\\n",
    "    ProfileEntity\n",
    "from gen_ai_hub.orchestration.models.azure_content_filter import AzureContentFilter, AzureThreshold\n",
    "\n",
    "\n",
    "data_masking = DataMasking(\n",
    "    providers=[\n",
    "        SAPDataPrivacyIntegration(\n",
    "            method=MaskingMethod.ANONYMIZATION,  # or MaskingMethod.PSEUDONYMIZATION\n",
    "            entities=[\n",
    "                ProfileEntity.EMAIL,\n",
    "                ProfileEntity.PHONE,\n",
    "                ProfileEntity.PERSON,\n",
    "                ProfileEntity.ORG,\n",
    "                ProfileEntity.LOCATION\n",
    "            ]\n",
    "        )\n",
    "    ]\n",
    ")\n",
    "\n",
    "output_filter = AzureContentFilter(hate=AzureThreshold.ALLOW_SAFE,\n",
    "                                   violence=AzureThreshold.ALLOW_SAFE_LOW,\n",
    "                                   self_harm=AzureThreshold.ALLOW_SAFE_LOW_MEDIUM,\n",
    "                                   sexual=AzureThreshold.ALLOW_ALL)\n",
    "\n",
    "config.data_masking = data_masking\n",
    "config.output_filters = [output_filter]\n"
   ]
  },
  {
   "cell_type": "markdown",
   "metadata": {},
   "source": [
    "Handling sensitive information"
   ]
  },
  {
   "cell_type": "code",
   "execution_count": 15,
   "metadata": {},
   "outputs": [
    {
     "name": "stdout",
     "output_type": "stream",
     "text": [
      "Summarize the following CV in 10 sentences: Patrick Morgan\n",
      "+49 30 23125 123\n",
      "patric.morgan@example.com\n",
      "\n",
      "Highlights\n",
      "\n",
      "Strategic and financial planning expert\n",
      "Accurate forecasting\n",
      "Process implementation\n",
      "Staff leadership and development\n",
      "Business performance improvement\n",
      "Proficient in SAP, Excel VBA\n",
      "Education\n",
      "Master of Science: Finance - 2014\n",
      "Harvard University, Boston\n",
      "\n",
      "Bachelor of Science: Finance - 2011\n",
      "Harvard University, Boston\n",
      "\n",
      "Certifications\n",
      "Certified Management Accountant\n",
      "\n",
      "Summary\n",
      "Skilled Financial Manager adept at increasing work process efficiency and profitability through functional and technical analysis.\n",
      "Successful at advising large corporations, small businesses, and individual clients. Areas of expertise include asset allocation, investment strategy, and risk management.\n",
      "\n",
      "Experience\n",
      "Finance Manager - 09/2016 to 05/2018\n",
      "M&K Group, York\n",
      "\n",
      "Manage the modelling, planning, and execution of all financial processes.\n",
      "Carry short and long-term custom comprehensive financial strategies to reach company goals.\n",
      "Recommended innovative alternatives to generate revenue and reduce unnecessary costs.\n",
      "Employed advanced deal analysis, including hands-on negotiations with potential investors.\n",
      "Research market trends and surveys and use information to stimulate business.\n",
      "Finance Manager - 09/2013 to 05/2016\n",
      "Ago Group, Chicago\n",
      "\n",
      "Drafted executive analysis reports highlighting business issues, potential risks, and profit opportunities.\n",
      "Recommended innovative alternatives to generate revenue and reduce unnecessary costs.\n",
      "Employed advanced deal analysis, including hands-on negotiations with potential investors.\n",
      "Analysed market trends and surveys and used information to revenue growth.\n",
      "\n"
     ]
    }
   ],
   "source": [
    "cv = load_text_file(\"data/cv.txt\")\n",
    "prompt = \"Summarize the following CV in 10 sentences: {cv}\".format(cv=cv)\n",
    "\n",
    "print(prompt + \"\\n\")"
   ]
  },
  {
   "cell_type": "code",
   "execution_count": 16,
   "metadata": {},
   "outputs": [
    {
     "name": "stdout",
     "output_type": "stream",
     "text": [
      "MASKED_PERSON is a skilled Financial Manager with expertise in strategic and financial planning, accurate forecasting, and process implementation. They have a strong background in staff leadership and development, as well as business performance improvement. Proficient in SAP and Excel VBA, they hold a Master of Science in Finance (2014) and a Bachelor of Science in Finance (2011) from MASKED_ORG. They are also a Certified Management Accountant. \n",
      "\n",
      "Their professional experience includes managing financial processes, developing comprehensive financial strategies, and recommending innovative revenue-generating alternatives. They have successfully advised large corporations, small businesses, and individual clients on asset allocation, investment strategy, and risk management. In their role as Finance Manager at MASKED_ORG from 2016 to 2018, they executed financial strategies, conducted market research, and negotiated with potential investors. Prior to that, from 2013 to 2016, they drafted executive analysis reports, identified business risks and opportunities, and contributed to revenue growth through market trend analysis.\n"
     ]
    }
   ],
   "source": [
    "print(bot.chat(prompt))"
   ]
  },
  {
   "cell_type": "markdown",
   "metadata": {},
   "source": []
  }
 ],
 "metadata": {
  "kernelspec": {
   "display_name": ".venv",
   "language": "python",
   "name": "python3"
  },
  "language_info": {
   "codemirror_mode": {
    "name": "ipython",
    "version": 3
   },
   "file_extension": ".py",
   "mimetype": "text/x-python",
   "name": "python",
   "nbconvert_exporter": "python",
   "pygments_lexer": "ipython3",
   "version": "3.12.5"
  }
 },
 "nbformat": 4,
 "nbformat_minor": 2
}
